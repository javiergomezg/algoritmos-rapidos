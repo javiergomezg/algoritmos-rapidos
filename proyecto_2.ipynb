{
 "cells": [
  {
   "cell_type": "code",
   "execution_count": 24,
   "metadata": {
    "collapsed": false
   },
   "outputs": [],
   "source": [
    "import numpy\n",
    "from math import *\n",
    "from scipy.fftpack import *\n",
    "from matplotlib import pyplot, cm\n",
    "from matplotlib import rcParams\n",
    "%matplotlib inline\n",
    "rcParams['font.family'] = 'serif'\n",
    "rcParams['font.size'] = 8"
   ]
  },
  {
   "cell_type": "markdown",
   "metadata": {},
   "source": [
    "# Transformada Rápida de Fourier"
   ]
  },
  {
   "cell_type": "markdown",
   "metadata": {},
   "source": [
    "## El Problema"
   ]
  },
  {
   "cell_type": "markdown",
   "metadata": {},
   "source": [
    "Consideremos la ecuación de Poisson:\n",
    "\n",
    "$$ \\frac{\\partial^2 \\phi}{\\partial x^2}+\\frac{\\partial^2 \\phi}{\\partial y^2} = \\frac{1}{\\pi^2}\\left(30\\left(\\left(\\frac{x}{\\pi}\\right)^2-\\frac{x}{\\pi}\\right)+30\\left(\\left(\\frac{y}{\\pi}\\right)^2-\\frac{y}{\\pi}\\right)-4 \\pi^2 \\left(\\frac{x}{\\pi}-1\\right)\\sin(2y)\\right) $$\n",
    "\n",
    "con condiciones de contorno:\n",
    "\n",
    "$$ \\phi(0, y)=\\phi(\\pi, y)=\\phi(x, 0)=\\phi(x, \\pi) = 0 $$\n",
    "\n",
    "que puede reescribirse como:\n",
    "\n",
    "$$ \\nabla^2 \\phi = f(x,y) $$\n",
    "\n",
    "donde $$f(x,y) = \\frac{1}{\\pi^2}\\left(30\\left(\\left(\\frac{x}{\\pi}\\right)^2-\\frac{x}{\\pi}\\right)+30\\left(\\left(\\frac{y}{\\pi}\\right)^2-\\frac{y}{\\pi}\\right)-4 \\pi^2 \\left(\\frac{x}{\\pi}-1\\right)\\sin(2y)\\right) $$"
   ]
  },
  {
   "cell_type": "code",
   "execution_count": 25,
   "metadata": {
    "collapsed": false
   },
   "outputs": [],
   "source": [
    "N = 128\n",
    "x = numpy.linspace(0., pi, N)\n",
    "y = numpy.linspace(0., pi, N)\n",
    "h = pi/(N-1)"
   ]
  },
  {
   "cell_type": "code",
   "execution_count": 26,
   "metadata": {
    "collapsed": false
   },
   "outputs": [],
   "source": [
    "def f(x, y):\n",
    "    N = len(x)\n",
    "    f = numpy.zeros((N, N))\n",
    "    for i in range(N):\n",
    "        for j in range(N):\n",
    "            f[i, j] = (1./pi**2)*(30.*((x[i]/pi)\\\n",
    "                                **2-x[i]/pi)+30.*((y[j]/pi)**2.-y[j]/pi)-4*(pi**2.)\\\n",
    "                                  *(x[i]/pi-1.)*sin(2*y[j]))\n",
    "    return f"
   ]
  },
  {
   "cell_type": "markdown",
   "metadata": {},
   "source": [
    "## Solución Analítica"
   ]
  },
  {
   "cell_type": "markdown",
   "metadata": {},
   "source": [
    "La solución analítica de este problema está dada por:\n",
    "$$ \\phi(x, y) = 15 \\left(\\left(\\frac{x}{\\pi}\\right)^2-\\frac{x}{\\pi}\\right) \\left(\\left(\\frac{y}{\\pi}\\right)^2-\\frac{y}{\\pi}\\right)-\\sin(2y) \\frac{\\sinh(2 \\pi (\\frac{x}{\\pi}-1))}{\\sinh(2 \\pi)}+\\left(\\frac{x}{\\pi}-1\\right)\\sin(2y) $$"
   ]
  },
  {
   "cell_type": "code",
   "execution_count": 27,
   "metadata": {
    "collapsed": true
   },
   "outputs": [],
   "source": [
    "def phi_ana(x,y):\n",
    "    N = len(x)\n",
    "    f = numpy.zeros((N, N))\n",
    "    for i in range(N):\n",
    "        for j in range(N):\n",
    "            f[i, j] = 15.*((x[i]/pi)**2-x[i]/pi)*((y[j]/pi)**2.\\\n",
    "                                -y[j]/pi)- (sin(2*y[j])*sinh(2*pi*(x[i]/pi-1.)))\\\n",
    "                                /sinh(2*pi)+(x[i]/pi-1.)*sin(2*y[j])\n",
    "    return f"
   ]
  },
  {
   "cell_type": "markdown",
   "metadata": {},
   "source": [
    "En la siguiente figura podemos ver un gráfico de la solución."
   ]
  },
  {
   "cell_type": "code",
   "execution_count": 28,
   "metadata": {
    "collapsed": false
   },
   "outputs": [
    {
     "data": {
      "image/png": "[encoded data removed]",
      "text/plain": [
       "<matplotlib.figure.Figure at 0x7f188063c8d0>"
      ]
     },
     "metadata": {},
     "output_type": "display_data"
    }
   ],
   "source": [
    "phi_analitica = phi_ana(x, y)\n",
    "\n",
    "fig = pyplot.figure(figsize=(6,4.5), dpi = 80);\n",
    "pyplot.contourf(x, y, phi_analitica, alpha = 0.8, cmap = cm.viridis)\n",
    "pyplot.colorbar()\n",
    "pyplot.title('Solucion analitica del problema')\n",
    "pyplot.xlabel('x [m]')\n",
    "pyplot.ylabel('y [m]');"
   ]
  },
  {
   "cell_type": "markdown",
   "metadata": {},
   "source": [
    "## Solución por Método Espectral"
   ]
  },
  {
   "cell_type": "markdown",
   "metadata": {},
   "source": [
    "Definamos algunas funciones de las transformadas del seno discreta"
   ]
  },
  {
   "cell_type": "code",
   "execution_count": 29,
   "metadata": {
    "collapsed": true
   },
   "outputs": [],
   "source": [
    "from numpy import empty,arange,exp,real,imag,pi\n",
    "from numpy.fft import rfft,irfft"
   ]
  },
  {
   "cell_type": "code",
   "execution_count": 30,
   "metadata": {
    "collapsed": true
   },
   "outputs": [],
   "source": [
    "# 1D DST Type-I\n",
    "\n",
    "def dst(y):\n",
    "    N = len(y)\n",
    "    y2 = empty(2*N,float)\n",
    "    y2[0] = y2[N] = 0.0\n",
    "    y2[1:N] = y[1:]\n",
    "    y2[:N:-1] = -y[1:]\n",
    "    a = -imag(rfft(y2))[:N]\n",
    "    a[0] = 0.0\n",
    "\n",
    "    return a\n",
    "\n",
    "# 1D inverse DST Type-I\n",
    "\n",
    "def idst(a):\n",
    "    N = len(a)\n",
    "    c = empty(N+1,complex)\n",
    "    c[0] = c[N] = 0.0\n",
    "    c[1:N] = -1j*a[1:]\n",
    "    y = irfft(c)[:N]\n",
    "    y[0] = 0.0\n",
    "\n",
    "    return y\n"
   ]
  },
  {
   "cell_type": "code",
   "execution_count": 31,
   "metadata": {
    "collapsed": true
   },
   "outputs": [],
   "source": [
    "# 2D DST\n",
    "\n",
    "def dst2(y):\n",
    "    M = y.shape[0]\n",
    "    N = y.shape[1]\n",
    "    a = empty([M,N],float)\n",
    "    b = empty([M,N],float)\n",
    "\n",
    "    for i in range(M):\n",
    "        a[i,:] = dst(y[i,:])\n",
    "    for j in range(N):\n",
    "        b[:,j] = dst(a[:,j])\n",
    "\n",
    "    return b\n",
    "\n",
    "# 2D inverse DST\n",
    "\n",
    "def idst2(b):\n",
    "    M = b.shape[0]\n",
    "    N = b.shape[1]\n",
    "    a = empty([M,N],float)\n",
    "    y = empty([M,N],float)\n",
    "\n",
    "    for i in range(M):\n",
    "        a[i,:] = idst(b[i,:])\n",
    "    for j in range(N):\n",
    "        y[:,j] = idst(a[:,j])\n",
    "\n",
    "    return y"
   ]
  },
  {
   "cell_type": "code",
   "execution_count": 32,
   "metadata": {
    "collapsed": false
   },
   "outputs": [],
   "source": [
    "fvalues = f(x, y) # definimos los valores de f"
   ]
  },
  {
   "cell_type": "code",
   "execution_count": 33,
   "metadata": {
    "collapsed": false
   },
   "outputs": [],
   "source": [
    "fvalues_t = dst2(fvalues) # calculamos sus transformadas"
   ]
  },
  {
   "cell_type": "code",
   "execution_count": 34,
   "metadata": {
    "collapsed": false
   },
   "outputs": [],
   "source": [
    "phi_t = numpy.zeros((N, N)) # calculamos phi_t(f_t))\n",
    "\n",
    "for k in range(1, N-1):\n",
    "    for l in range(1, N-1):\n",
    "        phi_t[k,l] = fvalues_t[k,l]/(-k**2-l**2)"
   ]
  },
  {
   "cell_type": "code",
   "execution_count": 35,
   "metadata": {
    "collapsed": false
   },
   "outputs": [],
   "source": [
    "phi = idst2(phi_t) # calculamos la inversa de phi_t"
   ]
  },
  {
   "cell_type": "code",
   "execution_count": 36,
   "metadata": {
    "collapsed": false
   },
   "outputs": [
    {
     "data": {
      "image/png": "[encoded data removed]",
      "text/plain": [
       "<matplotlib.figure.Figure at 0x7f185f1f2290>"
      ]
     },
     "metadata": {},
     "output_type": "display_data"
    }
   ],
   "source": [
    "fig = pyplot.figure(figsize=(6,4.5), dpi = 80);\n",
    "pyplot.contourf(x, y, phi, alpha = 0.8, cmap = cm.viridis)\n",
    "pyplot.colorbar()\n",
    "pyplot.title('Solucion por metodo espectral')\n",
    "pyplot.xlabel('x [m]')\n",
    "pyplot.ylabel('y [m]');"
   ]
  },
  {
   "cell_type": "markdown",
   "metadata": {},
   "source": [
    "## Solución por diferencias finitas (2D DST)"
   ]
  },
  {
   "cell_type": "code",
   "execution_count": 37,
   "metadata": {
    "collapsed": true
   },
   "outputs": [],
   "source": [
    "fvalues = f(x, y) # definimos los valores de f"
   ]
  },
  {
   "cell_type": "code",
   "execution_count": 38,
   "metadata": {
    "collapsed": true
   },
   "outputs": [],
   "source": [
    "fvalues_t = dst2(fvalues) # calculamos sus transformadas"
   ]
  },
  {
   "cell_type": "code",
   "execution_count": 39,
   "metadata": {
    "collapsed": false
   },
   "outputs": [],
   "source": [
    "phi_t = numpy.zeros((N, N)) # calculamos phi_t(f_t))\n",
    "\n",
    "for k in range(1, N-1):\n",
    "    for l in range(1, N-1):\n",
    "        phi_t[k,l] = fvalues_t[k,l]*(h**2/(4*cos((k+l)*h/2)*cos((k-l)*h/2)-4.))"
   ]
  },
  {
   "cell_type": "code",
   "execution_count": 40,
   "metadata": {
    "collapsed": true
   },
   "outputs": [],
   "source": [
    "phi = idst2(phi_t) # calculamos la inversa de phi_t"
   ]
  },
  {
   "cell_type": "code",
   "execution_count": 41,
   "metadata": {
    "collapsed": false
   },
   "outputs": [
    {
     "data": {
      "image/png": "[encoded data removed]",
      "text/plain": [
       "<matplotlib.figure.Figure at 0x7f185a4a7690>"
      ]
     },
     "metadata": {},
     "output_type": "display_data"
    }
   ],
   "source": [
    "fig = pyplot.figure(figsize=(6,4.5), dpi = 80);\n",
    "pyplot.contourf(x, y, phi, alpha = 0.8, cmap = cm.viridis)\n",
    "pyplot.colorbar()\n",
    "pyplot.title('Solucion por diferencias finitas 2D')\n",
    "pyplot.xlabel('x [m]')\n",
    "pyplot.ylabel('y [m]');"
   ]
  },
  {
   "cell_type": "markdown",
   "metadata": {},
   "source": [
    "## Solución por diferencias finitas (1D DST)"
   ]
  },
  {
   "cell_type": "code",
   "execution_count": 42,
   "metadata": {
    "collapsed": true
   },
   "outputs": [],
   "source": [
    "fvalues = f(x, y) # definimos los valores de f"
   ]
  },
  {
   "cell_type": "code",
   "execution_count": 43,
   "metadata": {
    "collapsed": false
   },
   "outputs": [],
   "source": [
    "f_t1D = numpy.zeros((N, N))\n",
    "for j in range(N):\n",
    "    f_t1D[:, j] = dst(fvalues[:, j])"
   ]
  },
  {
   "cell_type": "code",
   "execution_count": 47,
   "metadata": {
    "collapsed": false
   },
   "outputs": [],
   "source": [
    "phi_t1D = numpy.zeros((N, N))\n",
    "for k in range(N):\n",
    "    A = numpy.zeros((N, N))\n",
    "    for i in range(N):\n",
    "        for j in range(N):\n",
    "            if abs(i - j) == 1:\n",
    "                A[i, j] = -1\n",
    "            if i == j:\n",
    "                A[i, j] = 4. - 2.*cos(k*h)\n",
    "    b = numpy.zeros(N)\n",
    "    for j in range(N):\n",
    "        b[j] = -h**2 * f_t1D[k, j]\n",
    "    phi_t1D[k, :] = numpy.linalg.solve(A, b)"
   ]
  },
  {
   "cell_type": "code",
   "execution_count": 48,
   "metadata": {
    "collapsed": false
   },
   "outputs": [],
   "source": [
    "phi = numpy.zeros((N, N))\n",
    "for j in range(N):\n",
    "    phi[:, j] = idst(phi_t1D[:, j])"
   ]
  },
  {
   "cell_type": "code",
   "execution_count": 49,
   "metadata": {
    "collapsed": false
   },
   "outputs": [
    {
     "data": {
      "image/png": "[encoded data removed]",
      "text/plain": [
       "<matplotlib.figure.Figure at 0x7f1858636610>"
      ]
     },
     "metadata": {},
     "output_type": "display_data"
    }
   ],
   "source": [
    "fig = pyplot.figure(figsize=(6,4.5), dpi = 80);\n",
    "pyplot.contourf(x, y, phi, alpha = 0.8, cmap = cm.viridis)\n",
    "pyplot.colorbar()\n",
    "pyplot.title('Solucion por diferencias finitas 1D')\n",
    "pyplot.xlabel('x [m]')\n",
    "pyplot.ylabel('y [m]');"
   ]
  },
  {
   "cell_type": "code",
   "execution_count": null,
   "metadata": {
    "collapsed": true
   },
   "outputs": [],
   "source": []
  }
 ],
 "metadata": {
  "anaconda-cloud": {},
  "kernelspec": {
   "display_name": "Python [default]",
   "language": "python",
   "name": "python2"
  },
  "language_info": {
   "codemirror_mode": {
    "name": "ipython",
    "version": 2
   },
   "file_extension": ".py",
   "mimetype": "text/x-python",
   "name": "python",
   "nbconvert_exporter": "python",
   "pygments_lexer": "ipython2",
   "version": "2.7.12"
  }
 },
 "nbformat": 4,
 "nbformat_minor": 1
}
