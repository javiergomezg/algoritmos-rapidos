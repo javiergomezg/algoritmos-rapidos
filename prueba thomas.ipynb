{
 "cells": [
  {
   "cell_type": "code",
   "execution_count": 1,
   "metadata": {
    "collapsed": true
   },
   "outputs": [],
   "source": [
    "import numpy\n",
    "import math"
   ]
  },
  {
   "cell_type": "code",
   "execution_count": 17,
   "metadata": {
    "collapsed": false
   },
   "outputs": [
    {
     "name": "stdout",
     "output_type": "stream",
     "text": [
      "[[ 4. -1.  0.  0.  0.  0.]\n",
      " [-1.  4. -1.  0.  0.  0.]\n",
      " [ 0. -1.  4. -1.  0.  0.]\n",
      " [ 0.  0. -1.  4. -1.  0.]\n",
      " [ 0.  0.  0. -1.  4. -1.]\n",
      " [ 0.  0.  0.  0. -1.  4.]]\n",
      "[2, 3, 5, 9, 8, 6]\n",
      "[ 0.90690484  1.62761937  2.60357266  3.78667125  3.54311233  2.38577808]\n"
     ]
    }
   ],
   "source": [
    "N=6\n",
    "A = numpy.zeros([N,N])\n",
    "\n",
    "for i in range(N):\n",
    "    A[i,i] = 4.\n",
    "    if i > 0:\n",
    "        A[i,i-1]=-1\n",
    "    if i < N-1:\n",
    "        A[i,i+1]=-1\n",
    "\n",
    "d = [2, 3, 5, 9, 8, 6]\n",
    "\n",
    "\n",
    "xp = numpy.linalg.solve(A, d)\n",
    "        \n",
    "print A\n",
    "print d\n",
    "print xp"
   ]
  },
  {
   "cell_type": "code",
   "execution_count": 22,
   "metadata": {
    "collapsed": true
   },
   "outputs": [],
   "source": [
    "def thomassolve(a,b,c,d):\n",
    "    \n",
    "    n = len(b)\n",
    "    \n",
    "    cth = numpy.empty([n-1], dtype=float)\n",
    "    dth = numpy.empty([n], dtype=float)\n",
    "    xth = numpy.empty([n], dtype=float)\n",
    "    \n",
    "    cth[0] = c[0]/b[0]\n",
    "    dth[0] = d[0]/b[0]\n",
    "    \n",
    "    for i in range(1,n-1):\n",
    "        cth[i] = c[i]/(b[i]-cth[i-1]*a[i-1])\n",
    "    for i in range(1,n):\n",
    "        dth[i] = (d[i]-dth[i-1]*a[i-1])/(b[i]-cth[i-1]*a[i-1])\n",
    "    \n",
    "    xth[n-1] = dth[n-1]\n",
    "    \n",
    "    for i in range(n-2,-1,-1):\n",
    "        xth[i] = dth[i]-cth[i]*xth[i+1]\n",
    "    \n",
    "    return xth\n",
    "    \n",
    "    "
   ]
  },
  {
   "cell_type": "code",
   "execution_count": 23,
   "metadata": {
    "collapsed": false
   },
   "outputs": [
    {
     "name": "stdout",
     "output_type": "stream",
     "text": [
      "[ 4.  4.  4.  4.  4.  4.]\n",
      "[-1. -1. -1. -1. -1.]\n",
      "[2, 3, 5, 9, 8, 6]\n",
      "\n",
      "[ 0.90690484  1.62761937  2.60357266  3.78667125  3.54311233  2.38577808]\n",
      "\n",
      "[ 0.90690484  1.62761937  2.60357266  3.78667125  3.54311233  2.38577808]\n"
     ]
    }
   ],
   "source": [
    "a = numpy.empty([N], dtype=float)\n",
    "b = numpy.empty([N-1], dtype=float)\n",
    "a[:] = 4\n",
    "b[:] = -1\n",
    "\n",
    "x = thomassolve(b,a,b,d)\n",
    "\n",
    "print a\n",
    "print b\n",
    "print d\n",
    "print\n",
    "print x\n",
    "print\n",
    "print xp"
   ]
  },
  {
   "cell_type": "code",
   "execution_count": null,
   "metadata": {
    "collapsed": true
   },
   "outputs": [],
   "source": []
  }
 ],
 "metadata": {
  "kernelspec": {
   "display_name": "Python [default]",
   "language": "python",
   "name": "python2"
  },
  "language_info": {
   "codemirror_mode": {
    "name": "ipython",
    "version": 2
   },
   "file_extension": ".py",
   "mimetype": "text/x-python",
   "name": "python",
   "nbconvert_exporter": "python",
   "pygments_lexer": "ipython2",
   "version": "2.7.12"
  }
 },
 "nbformat": 4,
 "nbformat_minor": 1
}
